{
 "cells": [
  {
   "cell_type": "markdown",
   "id": "51603cee",
   "metadata": {},
   "source": [
    "# Evidence Brief — End-to-End Notebook\n",
    "\n",
    "**Author:** Maria Camila Cuesta\n",
    "\n",
    "This notebook loads a demo YAML and CSV, computes effect sizes, renders a Markdown Evidence Brief,\n",
    "and generates a risk figure. Outputs are saved into the repository structure.\n"
   ]
  },
  {
   "cell_type": "code",
   "execution_count": 1,
   "id": "bff87d24",
   "metadata": {},
   "outputs": [
    {
     "name": "stdout",
     "output_type": "stream",
     "text": [
      "Paths: /Users/juangarzon/Downloads/evidence-brief-template-pro/data/study_demo.yaml /Users/juangarzon/Downloads/evidence-brief-template-pro/data/outcomes_demo.csv /Users/juangarzon/Downloads/evidence-brief-template-pro/templates /Users/juangarzon/Downloads/evidence-brief-template-pro/docs/briefs/evidence_brief.md\n"
     ]
    }
   ],
   "source": [
    "import sys\n",
    "from pathlib import Path\n",
    "\n",
    "ROOT = Path.cwd().parent\n",
    "if str(ROOT) not in sys.path:\n",
    "    sys.path.insert(0, str(ROOT))\n",
    "\n",
    "from src.brief import render_brief\n",
    "\n",
    "BASE = ROOT\n",
    "study_yaml = BASE / 'data' / 'study_demo.yaml'\n",
    "outcomes_csv = BASE / 'data' / 'outcomes_demo.csv'\n",
    "template_dir = BASE / 'templates'\n",
    "output_md = BASE / 'docs' / 'briefs' / 'evidence_brief.md'\n",
    "print('Paths:', study_yaml, outcomes_csv, template_dir, output_md)"
   ]
  },
  {
   "cell_type": "code",
   "execution_count": 2,
   "id": "3ddd962b",
   "metadata": {},
   "outputs": [
    {
     "name": "stdout",
     "output_type": "stream",
     "text": [
      "Brief saved to: /Users/juangarzon/Downloads/evidence-brief-template-pro/docs/briefs/evidence_brief.md\n"
     ]
    }
   ],
   "source": [
    "md_path = render_brief(study_yaml, outcomes_csv, template_dir, output_md)\n",
    "print('Brief saved to:', md_path)"
   ]
  },
  {
   "cell_type": "markdown",
   "id": "cae5af11",
   "metadata": {},
   "source": [
    "## Preview (first 40 lines)"
   ]
  },
  {
   "cell_type": "code",
   "execution_count": 3,
   "id": "4719c89d",
   "metadata": {},
   "outputs": [
    {
     "name": "stdout",
     "output_type": "stream",
     "text": [
      "\\\n",
      "# Evidence Brief — Demo Study in Hypertension\n",
      "\n",
      "**Indication:** Hypertension\n",
      "**Population:** Adults 40–80 years with stage 1–2 hypertension\n",
      "**Intervention:** Drug X (once daily)\n",
      "**Comparator:** Placebo\n",
      "**Version:** 1.0\n",
      "**Prepared by:** Maria Camila Cuesta\n",
      "\n",
      "---\n",
      "\n",
      "## Key Messages\n",
      "- Drug X shows improved outcomes over placebo in the simulated cohort.\n",
      "- Effect magnitude should be confirmed in real-world or clinical trial data.\n",
      "\n",
      "---\n",
      "\n",
      "## Efficacy/Effectiveness Endpoints\n",
      "\n",
      "### Primary\n",
      "\n",
      "- Risk (Treatment): 16.00%\n",
      "- Risk (Control): 22.00%\n",
      "- **Risk Difference (RD):** -6.00% (95% CI: -10.85% to -1.15%)\n",
      "- **Risk Ratio (RR):** 0.73 (95% CI: 0.56 to 0.94)\n",
      "- **Odds Ratio (OR):** 0.68 (95% CI: 0.49 to 0.93)\n",
      "\n",
      "### Secondary\n",
      "\n",
      "- Risk (Treatment): 64.00%\n",
      "- Risk (Control): 56.00%\n",
      "- **Risk Difference (RD):** 8.00% (95% CI: 1.95% to 14.05%)\n",
      "- **Risk Ratio (RR):** 1.14 (95% CI: 1.03 to 1.27)\n",
      "- **Odds Ratio (OR):** 1.40 (95% CI: 1.08 to 1.80)\n",
      "\n",
      "\n",
      "> Figure: Risk by arm for **Primary**\n",
      "> ![Risk Figure](figures/risk_Primary.png)\n",
      "\n"
     ]
    }
   ],
   "source": [
    "from itertools import islice\n",
    "with open(output_md, 'r', encoding='utf-8') as f:\n",
    "    for line in islice(f, 40):\n",
    "        print(line.rstrip())"
   ]
  },
  {
   "cell_type": "code",
   "execution_count": null,
   "id": "9fcc8168",
   "metadata": {},
   "outputs": [],
   "source": []
  },
  {
   "cell_type": "code",
   "execution_count": null,
   "id": "70682183",
   "metadata": {},
   "outputs": [],
   "source": []
  }
 ],
 "metadata": {
  "kernelspec": {
   "display_name": "Python (evidence-venv)",
   "language": "python",
   "name": "evidence-venv"
  },
  "language_info": {
   "codemirror_mode": {
    "name": "ipython",
    "version": 3
   },
   "file_extension": ".py",
   "mimetype": "text/x-python",
   "name": "python",
   "nbconvert_exporter": "python",
   "pygments_lexer": "ipython3",
   "version": "3.11.5"
  }
 },
 "nbformat": 4,
 "nbformat_minor": 5
}
